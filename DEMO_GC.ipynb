{
  "nbformat": 4,
  "nbformat_minor": 0,
  "metadata": {
    "colab": {
      "provenance": [],
      "toc_visible": true
    },
    "kernelspec": {
      "name": "python3",
      "display_name": "Python 3"
    },
    "language_info": {
      "name": "python"
    }
  },
  "cells": [
    {
      "cell_type": "code",
      "source": [
        "print(\"Heyyyyyy, Welcome to GENAI 101\")\n"
      ],
      "metadata": {
        "colab": {
          "base_uri": "https://localhost:8080/"
        },
        "id": "zLPUlvV9-lV_",
        "outputId": "54ad850b-e2f3-4047-c7ec-f67111cf9990"
      },
      "execution_count": 2,
      "outputs": [
        {
          "output_type": "stream",
          "name": "stdout",
          "text": [
            "Hello, PESUIO 👋 Welcome to GENAI 101!\n"
          ]
        }
      ]
    },
    {
      "cell_type": "markdown",
      "source": [
        "for installing you use ! preceding pip\n",
        "example : !pip install xyz"
      ],
      "metadata": {
        "id": "eWrHHMBb-pkx"
      }
    },
    {
      "cell_type": "code",
      "source": [
        "!pip install numpy #feel free to replace numpy w any library u wanna test out w"
      ],
      "metadata": {
        "colab": {
          "base_uri": "https://localhost:8080/"
        },
        "id": "tOrmMtB9-pEK",
        "outputId": "8fb03c52-c244-4801-86d8-14b2367b95a3"
      },
      "execution_count": 3,
      "outputs": [
        {
          "output_type": "stream",
          "name": "stdout",
          "text": [
            "Requirement already satisfied: numpy in /usr/local/lib/python3.12/dist-packages (2.0.2)\n"
          ]
        }
      ]
    },
    {
      "cell_type": "code",
      "execution_count": null,
      "metadata": {
        "colab": {
          "base_uri": "https://localhost:8080/"
        },
        "id": "xViq2FYw_Lhp",
        "outputId": "e0d917e8-9371-43a0-efd7-bb05e5a6134f"
      },
      "outputs": [
        {
          "output_type": "stream",
          "name": "stdout",
          "text": [
            "Colab notebook detected. To show errors in colab notebook, set debug=True in launch()\n",
            "* Running on public URL: https://5ca30e6964005fdbd8.gradio.live\n",
            "\n",
            "This share link expires in 1 week. For free permanent hosting and GPU upgrades, run `gradio deploy` from the terminal in the working directory to deploy to Hugging Face Spaces (https://huggingface.co/spaces)\n"
          ]
        },
        {
          "output_type": "display_data",
          "data": {
            "text/plain": [
              "<IPython.core.display.HTML object>"
            ],
            "text/html": [
              "<div><iframe src=\"https://5ca30e6964005fdbd8.gradio.live\" width=\"100%\" height=\"500\" allow=\"autoplay; camera; microphone; clipboard-read; clipboard-write;\" frameborder=\"0\" allowfullscreen></iframe></div>"
            ]
          },
          "metadata": {}
        },
        {
          "output_type": "execute_result",
          "data": {
            "text/plain": []
          },
          "metadata": {},
          "execution_count": 1
        }
      ],
      "source": [
        "!pip install gradio -q\n",
        "\n",
        "import gradio as gr\n",
        "def reverse_name(name):\n",
        "    return name[::-1]\n",
        "\n",
        "# Create a Gradio interface\n",
        "demo = gr.Interface(\n",
        "    fn=reverse_name,           # function to call\n",
        "    inputs=\"text\",             # user input type\n",
        "    outputs=\"text\",            # output type\n",
        "    title=\"Name Reverser 🔄\",\n",
        "    description=\"Type your name and see it reversed!\"\n",
        ")\n",
        "\n",
        "# Launch the app\n",
        "demo.launch(share=True)   # share=True gives you a public gradio.live link\n"
      ]
    }
  ]
}