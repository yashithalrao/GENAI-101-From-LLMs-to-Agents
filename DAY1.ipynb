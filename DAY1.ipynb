{
  "nbformat": 4,
  "nbformat_minor": 0,
  "metadata": {
    "colab": {
      "provenance": []
    },
    "kernelspec": {
      "name": "python3",
      "display_name": "Python 3"
    },
    "language_info": {
      "name": "python"
    }
  },
  "cells": [
    {
      "cell_type": "code",
      "execution_count": null,
      "metadata": {
        "id": "Z8AhpZrXm5gs"
      },
      "outputs": [],
      "source": []
    },
    {
      "cell_type": "markdown",
      "source": [
        "# Python revision\n",
        "\n",
        "\n"
      ],
      "metadata": {
        "id": "5yYyWKBBm95N"
      }
    },
    {
      "cell_type": "code",
      "source": [
        "import sys\n",
        "print('Python', sys.version)"
      ],
      "metadata": {
        "colab": {
          "base_uri": "https://localhost:8080/"
        },
        "id": "QKA8sbAfnAC0",
        "outputId": "40c59ec3-0ecb-4090-f7f2-c961a7feda17"
      },
      "execution_count": null,
      "outputs": [
        {
          "output_type": "stream",
          "name": "stdout",
          "text": [
            "Python 3.12.11 (main, Jun  4 2025, 08:56:18) [GCC 11.4.0]\n"
          ]
        }
      ]
    },
    {
      "cell_type": "markdown",
      "source": [
        "print statement:"
      ],
      "metadata": {
        "id": "vT0X81TknJ3w"
      }
    },
    {
      "cell_type": "code",
      "source": [
        "print(\"hello\")"
      ],
      "metadata": {
        "colab": {
          "base_uri": "https://localhost:8080/"
        },
        "id": "erI9jm8-nF41",
        "outputId": "33666700-83b9-4bf8-b35a-e24a91379045"
      },
      "execution_count": null,
      "outputs": [
        {
          "output_type": "stream",
          "name": "stdout",
          "text": [
            "hello\n"
          ]
        }
      ]
    },
    {
      "cell_type": "markdown",
      "source": [
        "##input"
      ],
      "metadata": {
        "id": "9-nbG4JkrNN7"
      }
    },
    {
      "cell_type": "code",
      "source": [
        "print(\"enter fav food:\")\n",
        "food = input()\n",
        "print(f\"fav food: {food}\")"
      ],
      "metadata": {
        "id": "0gnoTY5KrPJO"
      },
      "execution_count": null,
      "outputs": []
    },
    {
      "cell_type": "markdown",
      "source": [
        "##Variables types"
      ],
      "metadata": {
        "id": "pY2-LVeNnW-o"
      }
    },
    {
      "cell_type": "code",
      "source": [
        "x = 10          # int\n",
        "y = 3.14        # float\n",
        "name = \"yashitha\"  # str\n",
        "flag = True     # bool"
      ],
      "metadata": {
        "id": "yBLFi8E4nQnG"
      },
      "execution_count": null,
      "outputs": []
    },
    {
      "cell_type": "markdown",
      "source": [
        "##2. Lists, tuples, sets, dict"
      ],
      "metadata": {
        "id": "ho-E_-d9nmfq"
      }
    },
    {
      "cell_type": "code",
      "source": [
        "\n",
        "#lists - like arrays\n",
        "lst = [1, 2, 3, \"sup\", True]\n",
        "print('list', lst, 'first,last', lst[0], lst[-1])\n",
        "\n",
        "print(lst.pop())\n",
        "print(f\"Popping element at index 2: {lst.pop(2)}, List after popping element: {lst}\")\n",
        "lst.append(4)\n",
        "print(f\"Appending element 4: {lst}\")\n",
        "\n",
        "# Tuples - can have duplicates\n",
        "t = (1, 2, 3)\n",
        "a, b, c = t\n",
        "print('tuple unpack:', a, b, c)\n",
        "\n",
        "# Sets -no duplicates, unordered\n",
        "s = {1, 2, 2, 3}\n",
        "s2 = {3, 4}\n",
        "print('set union', s.union(s2), 'intersection', s.intersection(s2))\n",
        "\n",
        "# Dicts, unordered\n",
        "person = {\"name\": \"Alex\", \"age\": 22, 7 : \"no\", True: 67}\n",
        "print('person name', person['name'])\n",
        "person[1]  # 67"
      ],
      "metadata": {
        "colab": {
          "base_uri": "https://localhost:8080/"
        },
        "id": "6TJulF7Hnfed",
        "outputId": "30a909d7-d24a-4339-dafd-fdbc3014d827"
      },
      "execution_count": null,
      "outputs": [
        {
          "output_type": "stream",
          "name": "stdout",
          "text": [
            "list [1, 2, 3, 'sup', True] first,last 1 True\n",
            "True\n",
            "Popping element at index 2: 3, List after popping element: [1, 2, 'sup']\n",
            "Appending element 4: [1, 2, 'sup', 4]\n",
            "tuple unpack: 1 2 3\n",
            "set union {1, 2, 3, 4} intersection {3}\n",
            "person name Alex\n"
          ]
        },
        {
          "output_type": "execute_result",
          "data": {
            "text/plain": [
              "67"
            ]
          },
          "metadata": {},
          "execution_count": 12
        }
      ]
    },
    {
      "cell_type": "markdown",
      "source": [
        "##Control flow"
      ],
      "metadata": {
        "id": "qbBDP8zLqnw4"
      }
    },
    {
      "cell_type": "code",
      "source": [
        "# if- else\n",
        "x = int(input())\n",
        "if x > 0:\n",
        "    print('positive')\n",
        "elif x == 0:\n",
        "    print('zero')\n",
        "else:\n",
        "    print('negative')\n",
        "\n"
      ],
      "metadata": {
        "colab": {
          "base_uri": "https://localhost:8080/"
        },
        "id": "NV6TaDH3qnX6",
        "outputId": "6d5474f2-3776-4a95-90ee-c9bb5fd15ef5"
      },
      "execution_count": null,
      "outputs": [
        {
          "output_type": "stream",
          "name": "stdout",
          "text": [
            "-3\n",
            "negative\n"
          ]
        }
      ]
    },
    {
      "cell_type": "code",
      "source": [
        "#loops\n",
        "print('for loop')\n",
        "for i in range(3):\n",
        "    print(i)\n",
        "\n",
        "print('while loop')\n",
        "n = 3\n",
        "while n:\n",
        "    print(n)\n",
        "    n -= 1"
      ],
      "metadata": {
        "colab": {
          "base_uri": "https://localhost:8080/"
        },
        "id": "bQRVuGGpq6y2",
        "outputId": "9a037ae3-8a93-4bf4-f502-8bd943565b6a"
      },
      "execution_count": null,
      "outputs": [
        {
          "output_type": "stream",
          "name": "stdout",
          "text": [
            "for loop\n",
            "0\n",
            "1\n",
            "2\n",
            "while loop\n",
            "3\n",
            "2\n",
            "1\n"
          ]
        }
      ]
    },
    {
      "cell_type": "markdown",
      "source": [
        "##functions"
      ],
      "metadata": {
        "id": "ptwgDksqtIdL"
      }
    },
    {
      "cell_type": "code",
      "source": [
        "def is_divisible(num1, num2):\n",
        "  if num1 % num2 == 0:\n",
        "    return True\n",
        "  else:\n",
        "    return False\n",
        "\n",
        "is_divisible(4, 2)"
      ],
      "metadata": {
        "colab": {
          "base_uri": "https://localhost:8080/"
        },
        "id": "lEwZOGc0rAx5",
        "outputId": "4e826ba7-37df-4df9-cefb-c13b68c0f095"
      },
      "execution_count": null,
      "outputs": [
        {
          "output_type": "execute_result",
          "data": {
            "text/plain": [
              "True"
            ]
          },
          "metadata": {},
          "execution_count": 17
        }
      ]
    },
    {
      "cell_type": "markdown",
      "source": [
        "##try catch block"
      ],
      "metadata": {
        "id": "4Y1_zdRftvlq"
      }
    },
    {
      "cell_type": "code",
      "source": [
        "try:\n",
        "    num = int(input(\"Enter a number: \"))\n",
        "    print(10 / num)\n",
        "except:\n",
        "    print(\"not the zero twin🥀\")\n"
      ],
      "metadata": {
        "colab": {
          "base_uri": "https://localhost:8080/"
        },
        "id": "2Ky2Qc1Jtxqn",
        "outputId": "1c6d41a3-fa5f-48b9-caec-2e5bd51e98a1"
      },
      "execution_count": null,
      "outputs": [
        {
          "output_type": "stream",
          "name": "stdout",
          "text": [
            "Enter a number: 0\n",
            "not the zero twin🥀\n"
          ]
        }
      ]
    },
    {
      "cell_type": "code",
      "source": [
        "try:\n",
        "    num = int(input(\"Enter a number: \"))\n",
        "    print(10 / num)\n",
        "except ZeroDivisionError:\n",
        "    print(\"Zero not allowed\")\n",
        "except ValueError:\n",
        "    print(\"not even a number😭\")\n",
        "else:\n",
        "    print(\"nice! No errors\")\n",
        "finally:\n",
        "    print(\"Done running\")\n"
      ],
      "metadata": {
        "colab": {
          "base_uri": "https://localhost:8080/"
        },
        "id": "4DHeC-jauMKC",
        "outputId": "85ee6123-e891-4c1b-aa6e-87e1b0fea66d"
      },
      "execution_count": null,
      "outputs": [
        {
          "output_type": "stream",
          "name": "stdout",
          "text": [
            "Enter a number: t\n",
            "not even a number😭\n",
            "Done running\n"
          ]
        }
      ]
    },
    {
      "cell_type": "markdown",
      "source": [
        "##File IO"
      ],
      "metadata": {
        "id": "dHqf7Q0xtxQ6"
      }
    },
    {
      "cell_type": "code",
      "source": [
        "# write & read a small temp file\n",
        "with open('sample_temp.txt', 'w', encoding='utf-8') as f: # w - opens or overwrites the file\n",
        "    f.write('hello GenAI')\n",
        "with open('sample_temp.txt', 'r', encoding='utf-8') as f:\n",
        "    print('file content:', f.read())\n"
      ],
      "metadata": {
        "colab": {
          "base_uri": "https://localhost:8080/"
        },
        "id": "hDJbhKe3uu2-",
        "outputId": "71a585c5-3ae3-4b53-b001-96fb5113d222"
      },
      "execution_count": null,
      "outputs": [
        {
          "output_type": "stream",
          "name": "stdout",
          "text": [
            "file content: hello GenAI\n"
          ]
        }
      ]
    },
    {
      "cell_type": "code",
      "source": [
        "sentences = [\n",
        "    'Hello how are you',\n",
        "    'im good, hows you',\n",
        "    'fine, bye'\n",
        "]\n",
        "with open('sentences_demo.txt', 'w', encoding='utf-8') as f:\n",
        "    f.write('\\n'.join(sentences))\n",
        "\n",
        "lines = []\n",
        "\n",
        "with open('sentences_demo.txt', 'r', encoding='utf-8') as f:\n",
        "    for l in f:\n",
        "        line = l.strip()#removes extra spaces\n",
        "        if line:               # skip empty lines\n",
        "            lines.append(line)\n",
        "\n",
        "\n",
        "\n",
        "\n",
        "print('loaded', len(lines), 'lines')\n",
        "print(lines)\n",
        "\n",
        "with open('sentences_demo.txt', 'r', encoding = 'utf-8') as f:\n",
        "  print('file content:', f.read())"
      ],
      "metadata": {
        "colab": {
          "base_uri": "https://localhost:8080/"
        },
        "id": "Ii8LC7b-vEoL",
        "outputId": "7a464cd9-2d8b-4dd8-9a7d-615caca9047a"
      },
      "execution_count": null,
      "outputs": [
        {
          "output_type": "stream",
          "name": "stdout",
          "text": [
            "file content: Hello how are you\n",
            "im good, hows you\n",
            "fine, bye\n",
            "loaded 3 lines\n",
            "['Hello how are you', 'im good, hows you', 'fine, bye']\n"
          ]
        }
      ]
    },
    {
      "cell_type": "markdown",
      "source": [
        "##solve this"
      ],
      "metadata": {
        "id": "FoelZnskzceJ"
      }
    },
    {
      "cell_type": "markdown",
      "source": [
        "\n",
        "\n",
        "\n",
        "\n",
        "\n",
        "\n",
        "\n",
        "\n",
        "\n",
        "\n",
        "\n",
        "\n",
        "\n",
        "\n",
        "\n",
        "\n",
        "\n",
        "\n",
        "\n",
        "\n",
        "\n",
        "\n",
        "\n",
        "\n",
        "\n",
        "\n",
        "\n",
        "\n",
        "\n",
        "\n",
        "\n",
        "\n",
        "\n",
        "\n",
        "Create a text file named file1.txt w the following as its content\n",
        "\n",
        "\n",
        "> \"life is like this and i like this,\n",
        "thats the difference between you and me you wanna lose small I\n",
        "wanna win big\"\n",
        "\n",
        "\n",
        "\n",
        "Write a Python program that:\n",
        "1. Reads the text from the file\n",
        "2. Counts how many times each letter (a–z) appears\n",
        "\n",
        "3. Ignores numbers, spaces, and punctuation\n",
        "\n",
        "4. Stores the results in a dictionary\n",
        "\n",
        "5. Prints the dictionary\n",
        "\n",
        "brownie points: identify the TV show"
      ],
      "metadata": {
        "id": "KOkYqsaizggH"
      }
    },
    {
      "cell_type": "code",
      "source": [
        "#create the file\n",
        "quote_text = \"\"\"life is like this and i like this,\n",
        "that’s the difference between you and me you wanna lose small i wanna win big\"\"\"\n",
        "\n",
        "\n",
        "with open('quotes.txt', 'w', encoding='utf-8') as f:\n",
        "    f.write(quote_text)\n",
        "\n",
        "with open('quotes.txt', 'r', encoding='utf-8') as f:\n",
        "    text = f.read()\n",
        "text = text.lower()#lower for standarization (not req in this example)\n",
        "\n",
        "letter_counts = {}\n",
        "\n",
        "for char in text:\n",
        "    if 'a' <= char <= 'z':#cause we are ignoring spaces, quotations etc\n",
        "        if char in letter_counts:\n",
        "            letter_counts[char] += 1\n",
        "        else:\n",
        "            letter_counts[char] = 1\n",
        "\n",
        "print(letter_counts)\n"
      ],
      "metadata": {
        "colab": {
          "base_uri": "https://localhost:8080/"
        },
        "id": "9pvg_8gUzcN9",
        "outputId": "5050e176-75e6-4c9c-d08e-86368fafd271"
      },
      "execution_count": null,
      "outputs": [
        {
          "output_type": "stream",
          "name": "stdout",
          "text": [
            "{'l': 6, 'i': 11, 'f': 3, 'e': 12, 's': 6, 'k': 2, 't': 6, 'h': 4, 'a': 8, 'n': 9, 'd': 3, 'r': 1, 'c': 1, 'b': 2, 'w': 4, 'y': 2, 'o': 3, 'u': 2, 'm': 2, 'g': 1}\n"
          ]
        }
      ]
    },
    {
      "cell_type": "code",
      "source": [],
      "metadata": {
        "id": "9rpPpXFW03G-"
      },
      "execution_count": null,
      "outputs": []
    }
  ]
}