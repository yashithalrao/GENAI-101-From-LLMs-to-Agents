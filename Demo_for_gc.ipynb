{
  "nbformat": 4,
  "nbformat_minor": 0,
  "metadata": {
    "colab": {
      "provenance": [],
      "toc_visible": true
    },
    "kernelspec": {
      "name": "python3",
      "display_name": "Python 3"
    },
    "language_info": {
      "name": "python"
    }
  },
  "cells": [
    {
      "cell_type": "code",
      "execution_count": null,
      "metadata": {
        "colab": {
          "base_uri": "https://localhost:8080/"
        },
        "id": "xViq2FYw_Lhp",
        "outputId": "e0d917e8-9371-43a0-efd7-bb05e5a6134f"
      },
      "outputs": [
        {
          "output_type": "stream",
          "name": "stdout",
          "text": [
            "Colab notebook detected. To show errors in colab notebook, set debug=True in launch()\n",
            "* Running on public URL: https://5ca30e6964005fdbd8.gradio.live\n",
            "\n",
            "This share link expires in 1 week. For free permanent hosting and GPU upgrades, run `gradio deploy` from the terminal in the working directory to deploy to Hugging Face Spaces (https://huggingface.co/spaces)\n"
          ]
        },
        {
          "output_type": "display_data",
          "data": {
            "text/plain": [
              "<IPython.core.display.HTML object>"
            ],
            "text/html": [
              "<div><iframe src=\"https://5ca30e6964005fdbd8.gradio.live\" width=\"100%\" height=\"500\" allow=\"autoplay; camera; microphone; clipboard-read; clipboard-write;\" frameborder=\"0\" allowfullscreen></iframe></div>"
            ]
          },
          "metadata": {}
        },
        {
          "output_type": "execute_result",
          "data": {
            "text/plain": []
          },
          "metadata": {},
          "execution_count": 1
        }
      ],
      "source": [
        "!pip install gradio -q\n",
        "\n",
        "import gradio as gr\n",
        "def reverse_name(name):\n",
        "    return name[::-1]\n",
        "\n",
        "# Create a Gradio interface\n",
        "demo = gr.Interface(\n",
        "    fn=reverse_name,           # function to call\n",
        "    inputs=\"text\",             # user input type\n",
        "    outputs=\"text\",            # output type\n",
        "    title=\"Name Reverser 🔄\",\n",
        "    description=\"Type your name and see it reversed!\"\n",
        ")\n",
        "\n",
        "# Launch the app\n",
        "demo.launch(share=True)   # share=True gives you a public gradio.live link\n"
      ]
    }
  ]
}
